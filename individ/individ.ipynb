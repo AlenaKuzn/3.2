{
 "cells": [
  {
   "cell_type": "raw",
   "id": "091ce206",
   "metadata": {},
   "source": [
    "Дана целочисленная прямоугольная матрица. Определить:\n",
    "    -количество строк, не содержащих ни одного нулевого элемента;\n",
    "    -максимальное из чисел, встречающихся в заданной матрице более одного раза. "
   ]
  },
  {
   "cell_type": "code",
   "execution_count": 1,
   "id": "1280df5e",
   "metadata": {},
   "outputs": [],
   "source": [
    "import numpy as np"
   ]
  },
  {
   "cell_type": "code",
   "execution_count": 14,
   "id": "8b09f22f",
   "metadata": {},
   "outputs": [
    {
     "name": "stdout",
     "output_type": "stream",
     "text": [
      "[[13  8  1  6 19  3]\n",
      " [ 3 12 15 14  0 18]\n",
      " [11  1  3  5 13 12]\n",
      " [ 4 14  2 17 10 10]]\n"
     ]
    }
   ],
   "source": [
    "m = np.random.randint (0, 20, (4, 6))\n",
    "print(m)"
   ]
  },
  {
   "cell_type": "code",
   "execution_count": 15,
   "id": "904135ab",
   "metadata": {},
   "outputs": [
    {
     "name": "stdout",
     "output_type": "stream",
     "text": [
      "3\n"
     ]
    }
   ],
   "source": [
    "# Количество строк, не содержащих ни одного нулевого элемента\n",
    "\n",
    "stk, stol = m[np.where(m.min(axis=1) != 0)].shape\n",
    "print(stk)"
   ]
  },
  {
   "cell_type": "code",
   "execution_count": 16,
   "id": "45de35ae",
   "metadata": {},
   "outputs": [
    {
     "name": "stdout",
     "output_type": "stream",
     "text": [
      "14\n"
     ]
    }
   ],
   "source": [
    "# Максимальное из чисел, встречающихся в заданной матрице более одного раза\n",
    "\n",
    "elm, count = np.unique(m, return_counts=True)\n",
    "print(max(elm[count > 1]))"
   ]
  }
 ],
 "metadata": {
  "kernelspec": {
   "display_name": "Python 3 (ipykernel)",
   "language": "python",
   "name": "python3"
  },
  "language_info": {
   "codemirror_mode": {
    "name": "ipython",
    "version": 3
   },
   "file_extension": ".py",
   "mimetype": "text/x-python",
   "name": "python",
   "nbconvert_exporter": "python",
   "pygments_lexer": "ipython3",
   "version": "3.9.13"
  }
 },
 "nbformat": 4,
 "nbformat_minor": 5
}
